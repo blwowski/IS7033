{
 "cells": [
  {
   "cell_type": "markdown",
   "metadata": {},
   "source": [
    "<h1>Capsnet: \"Dynamic Routing Between Capsules\"</h1>\n",
    "<h4><span style=\"text-decoration: underline;\">Original Paper:</span> Geoffrey E. Hinton,&nbsp;Sara Sabour,&nbsp; Nicholas Frosst</h4>\n",
    "<h4><span style=\"text-decoration: underline;\">Notebook Author:</span>&nbsp; Brandon Lwowski</h4>"
   ]
  },
  {
   "cell_type": "markdown",
   "metadata": {},
   "source": [
    "<h2>I. Introduction</h2>\n",
    "<p>Geoffrey Hinton and his colleagues developed a new architecture for neural nets, called Capsule Networks, to tackle some of the negative issues present with the traditional CNN. The Convolutional Neural Network is commonly used in tasks such as computer vision and text classification. VGG-16, Inception, and ResNet-50 are all architectures that are extremely successful in the domain of computer vision and all use multiple convolutional layers in their networks.</p>\n",
    "<p>Even with the large amount of success that CNN's have earned, there are drawbacks present that limit their overall ability. CNN's do not store spatial or orientational relationships between features. The most common example is the human face. As long as the image has 2 eyes, a nose, and a mouth, the CNN will classify it a face, regardless of if the mouth is above the eyes, or the nose is by the ears.&nbsp;</p>\n",
    "<p>The Capsule Network was Hinton&rsquo;s attempt to fix these known issues of CNN's. The \"capsules\" in this architecture learn spatial and orientational features, which will be discussed later in this notebook. In this notebook you will see my implementation of a Capsule Network on the MNIST data set. The network is trained on data that has not been augmented and tested on images that have been scaled and rotated. You will see that the CapsNet does well on the scaled data but, still struggles to solve the rotational invariance issue with traditional CNNs.</p>\n",
    "<img src = \"./images/capsnet.png\">\n",
    "<h2>II. Background</h2>\n",
    "<p>&nbsp;</p>\n",
    "<p>What are Capsules? You can find a detailed explanation in Hinton&rsquo;s first paper \"<a href=\"http://www.cs.toronto.edu/~fritz/absps/transauto6.pdf\">Transforming Auto-encoders</a>\" but I will do my best to paraphrase here. A capsule is a set of neurons that produce a vector. This differs from a typical neural network, where the output is a scalar. This vector can represent the size, orientation, or even the hue of the image once trained.</p>\n",
    "<p>&nbsp;</p>\n",
    "<img src = \"./images/capsule.png\">\n",
    "<p>In the image above you will see 2 different types of capsules. The red capsules are created using 3 neurons and the green capsules are created using 4 neurons. The red capsules are used as recognition units and the green capsules are used as generation units (This will be discussed further down in the notebook).&nbsp; Recognition units, similar to the hidden later in a general artificial neural network, are used to compute the X-position, Y-position and the probability that the visual feature is present in the input image. The generation units receive the X-position plus the change in X and the Y-position plus the change in Y and then are multiplied by the probability to generate the actual output. The distance between the actual output and target output are then calculated and used to adjust the capsules weights. By multiplying the output of the generation units by the probability, inactive capsules will not affect the actual output.</p>"
   ]
  },
  {
   "cell_type": "markdown",
   "metadata": {},
   "source": [
    "<h2>III. Implementation</h2>\n",
    "<p>Below you will find my pytorch implementation of capsule networks and the dynamic routing algorithm provided by Hinton.&nbsp;</p>"
   ]
  },
  {
   "cell_type": "code",
   "execution_count": 13,
   "metadata": {},
   "outputs": [],
   "source": [
    "### Import Libraries\n",
    "\n",
    "### pytorch libraries needed\n",
    "import torch\n",
    "import torch.nn as nn\n",
    "import torch.optim as optim\n",
    "from torch.autograd import Variable\n",
    "import torch.nn.functional as F\n",
    "import torchvision\n",
    "from torchvision import datasets, transforms\n",
    "from torchvision.utils import make_grid\n",
    "\n",
    "import numpy as np               ### Matrix Math\n",
    "import matplotlib.pyplot as plt  ### Data visualizations\n",
    "\n",
    "from tqdm import tqdm            ### Create progress bar\n",
    "import gc                        ### Garbage collect to save memory"
   ]
  },
  {
   "cell_type": "code",
   "execution_count": 14,
   "metadata": {},
   "outputs": [
    {
     "data": {
      "text/plain": [
       "<torch._C.Generator at 0x7f0c47cf4310>"
      ]
     },
     "execution_count": 14,
     "metadata": {},
     "output_type": "execute_result"
    }
   ],
   "source": [
    "### Hyperparameters\n",
    "USE_CUDA = True if torch.cuda.is_available() else False\n",
    "BATCH_SIZE = 128\n",
    "N_EPOCHS = 30            \n",
    "LEARNING_RATE = 0.0001\n",
    "MOMENTUM = 0.7\n",
    "\n",
    "random_seed = 1\n",
    "torch.backends.cudnn.enabled = False\n",
    "torch.manual_seed(random_seed)"
   ]
  },
  {
   "cell_type": "code",
   "execution_count": 15,
   "metadata": {},
   "outputs": [
    {
     "data": {
      "text/plain": [
       "154"
      ]
     },
     "execution_count": 15,
     "metadata": {},
     "output_type": "execute_result"
    }
   ],
   "source": [
    "gc.collect()"
   ]
  },
  {
   "cell_type": "markdown",
   "metadata": {},
   "source": [
    "<h2>III(a). Data and Data Analysis</h2>\n",
    "<p>The following four functions are used to create train and test data. For this experiment of the capsule network, I plan to train the model on data that has not been augmented. It will be trained on the original 29x29 MNIST data set. The goal of this notebook is to investigate how well the model can classify MNIST data that has been rotated or scaled. The <font face=\"courier\">test_loader</font> is a base line; these images are not augmented.  <font face=\"courier\">test_loader_rotate</font> is a test set of MNIST images randomly rotated -75 degrees to 75 degrees. Lastly, the  <font face=\"courier\">test_loader_scale_half</font> was resized, so the image is half the size and padded to match the 28x28 dimensions. Below those 4 functions you will find examples of training set, test set original, test set rotated, and test set scaled&nbsp;</p>\n",
    "<img src = \"./images/MNIST.png\">\n"
   ]
  },
  {
   "cell_type": "code",
   "execution_count": 16,
   "metadata": {},
   "outputs": [],
   "source": [
    "### Get MNIST Data\n",
    "\n",
    "#train = True pulls from training set train = False pulls from testing data\n",
    "#Compose() chains multiple transformations together\n",
    "#ToTensor() transforms PIL image or numpy array to torch tensor\n",
    "#Normalize() normalize a tensor image with mean and standard deviation (mean, std)\n",
    "\n",
    "train_loader = torch.utils.data.DataLoader(\n",
    "  torchvision.datasets.MNIST('./files', train=True, download=True,\n",
    "                             transform=torchvision.transforms.Compose([\n",
    "                               torchvision.transforms.Resize((28, 28)),\n",
    "                               torchvision.transforms.ToTensor(),\n",
    "                               torchvision.transforms.Normalize(\n",
    "                                 (0.1307,), (0.3081,))\n",
    "                             ])),\n",
    "  batch_size=BATCH_SIZE, shuffle=True)\n",
    "\n",
    "test_loader = torch.utils.data.DataLoader(\n",
    "  torchvision.datasets.MNIST('./files', train=True, download=True,\n",
    "                             transform=torchvision.transforms.Compose([\n",
    "                               torchvision.transforms.Resize((28, 28)),\n",
    "                               torchvision.transforms.ToTensor(),\n",
    "                               torchvision.transforms.Normalize(\n",
    "                                 (0.1307,), (0.3081,))\n",
    "                             ])),\n",
    "  batch_size=BATCH_SIZE, shuffle=True)\n",
    "\n",
    "test_loader_rotate = torch.utils.data.DataLoader(\n",
    "  torchvision.datasets.MNIST('./files', train=False, download=True,\n",
    "                             transform=torchvision.transforms.Compose([\n",
    "                               torchvision.transforms.RandomRotation((-75,75)),\n",
    "                               torchvision.transforms.Resize((28, 28)),\n",
    "                               torchvision.transforms.ToTensor(),\n",
    "                               torchvision.transforms.Normalize((0.1307,), (0.3081,))\n",
    "                             ])),\n",
    "  batch_size=BATCH_SIZE, shuffle=True)\n",
    "\n",
    "test_loader_scale_half = torch.utils.data.DataLoader(\n",
    "  torchvision.datasets.MNIST('./files', train=False, download=True,\n",
    "                             transform=torchvision.transforms.Compose([\n",
    "                                transforms.Resize(20),\n",
    "                                transforms.Pad(padding=4, padding_mode='edge'),\n",
    "                                transforms.ToTensor(),\n",
    "                                transforms.Normalize((0.1307,), (0.3081,))\n",
    "                             ])),\n",
    "  batch_size=BATCH_SIZE, shuffle=True)"
   ]
  },
  {
   "cell_type": "code",
   "execution_count": 17,
   "metadata": {},
   "outputs": [
    {
     "name": "stdout",
     "output_type": "stream",
     "text": [
      "Index: 0\n",
      "Example Shape: torch.Size([128, 1, 28, 28])\n",
      "Target Shape : torch.Size([128])\n"
     ]
    },
    {
     "data": {
      "text/plain": [
       "<module 'matplotlib.pyplot' from '/home/ubuntu/.local/lib/python3.7/site-packages/matplotlib/pyplot.py'>"
      ]
     },
     "execution_count": 17,
     "metadata": {},
     "output_type": "execute_result"
    },
    {
     "data": {
      "image/png": "[encoded data removed]",
      "text/plain": [
       "<Figure size 1080x576 with 6 Axes>"
      ]
     },
     "metadata": {
      "needs_background": "light"
     },
     "output_type": "display_data"
    }
   ],
   "source": [
    "### Train Data\n",
    "examples = enumerate(train_loader)\n",
    "batch_idx, (example_data, example_targets) = next(examples)\n",
    "\n",
    "print (\"Index:\", batch_idx)\n",
    "print (\"Example Shape:\", example_data.shape)\n",
    "print (\"Target Shape :\", example_targets.shape)\n",
    "\n",
    "fig = plt.figure(figsize=(15, 8))\n",
    "for i in range(6):\n",
    "    plt.subplot(1,6, i+1)\n",
    "    plt.imshow(example_data[i][0], cmap='gray', interpolation='none')\n",
    "    plt.title(\"Ground Truth: {}\".format(example_targets[i]))\n",
    "plt"
   ]
  },
  {
   "cell_type": "code",
   "execution_count": 18,
   "metadata": {},
   "outputs": [
    {
     "name": "stdout",
     "output_type": "stream",
     "text": [
      "Index: 0\n",
      "Example Shape: torch.Size([128, 1, 28, 28])\n",
      "Target Shape : torch.Size([128])\n"
     ]
    },
    {
     "data": {
      "text/plain": [
       "<module 'matplotlib.pyplot' from '/home/ubuntu/.local/lib/python3.7/site-packages/matplotlib/pyplot.py'>"
      ]
     },
     "execution_count": 18,
     "metadata": {},
     "output_type": "execute_result"
    },
    {
     "data": {
      "image/png": "[encoded data removed]",
      "text/plain": [
       "<Figure size 1080x576 with 6 Axes>"
      ]
     },
     "metadata": {
      "needs_background": "light"
     },
     "output_type": "display_data"
    }
   ],
   "source": [
    "### Test Data Rotate\n",
    "examples = enumerate(test_loader_rotate)\n",
    "batch_idx, (example_data, example_targets) = next(examples)\n",
    "\n",
    "print (\"Index:\", batch_idx)\n",
    "print (\"Example Shape:\", example_data.shape)\n",
    "print (\"Target Shape :\", example_targets.shape)\n",
    "\n",
    "fig = plt.figure(figsize=(15, 8))\n",
    "for i in range(6):\n",
    "    plt.subplot(1,6, i+1)\n",
    "    plt.imshow(example_data[i][0], cmap='gray', interpolation='none')\n",
    "    plt.title(\"Ground Truth: {}\".format(example_targets[i]))\n",
    "plt"
   ]
  },
  {
   "cell_type": "code",
   "execution_count": 19,
   "metadata": {},
   "outputs": [
    {
     "name": "stdout",
     "output_type": "stream",
     "text": [
      "Index: 0\n",
      "Example Shape: torch.Size([128, 1, 28, 28])\n",
      "Target Shape : torch.Size([128])\n"
     ]
    },
    {
     "data": {
      "text/plain": [
       "<module 'matplotlib.pyplot' from '/home/ubuntu/.local/lib/python3.7/site-packages/matplotlib/pyplot.py'>"
      ]
     },
     "execution_count": 19,
     "metadata": {},
     "output_type": "execute_result"
    },
    {
     "data": {
      "image/png": "[encoded data removed]",
      "text/plain": [
       "<Figure size 1080x576 with 6 Axes>"
      ]
     },
     "metadata": {
      "needs_background": "light"
     },
     "output_type": "display_data"
    }
   ],
   "source": [
    "### Test Data Scale\n",
    "examples = enumerate(test_loader_scale_half)\n",
    "batch_idx, (example_data, example_targets) = next(examples)\n",
    "\n",
    "print (\"Index:\", batch_idx)\n",
    "print (\"Example Shape:\", example_data.shape)\n",
    "print (\"Target Shape :\", example_targets.shape)\n",
    "\n",
    "fig = plt.figure(figsize=(15, 8))\n",
    "for i in range(6):\n",
    "    plt.subplot(1,6, i+1)\n",
    "    plt.imshow(example_data[i][0], cmap='gray', interpolation='none')\n",
    "    plt.title(\"Ground Truth: {}\".format(example_targets[i]))\n",
    "plt"
   ]
  },
  {
   "cell_type": "code",
   "execution_count": 20,
   "metadata": {},
   "outputs": [
    {
     "data": {
      "text/plain": [
       "31010"
      ]
     },
     "execution_count": 20,
     "metadata": {},
     "output_type": "execute_result"
    }
   ],
   "source": [
    "gc.collect()"
   ]
  },
  {
   "cell_type": "markdown",
   "metadata": {},
   "source": [
    "<h2>III(b). Design</h2>\n",
    "<p>The topology of a Capsule Network has 4 major components that make up the CapsNet architecture. The convolutional layer, primary caps layer, digit caps layer, and the decoder.&nbsp; Each of the 4 components will have a detailed explanation further down in the notebook.&nbsp;</p>\n",
    "<p>In order to discuss how the CapsNet works, it is important to understand the Hinton&rsquo;s new activation function, called the squash function, the loss function for the CapsNet, and the Dynamic Routing algorithm used in his paper.</p>\n",
    "<p>Below you will find the equation created by Hinton called the squash function. Typically, in CNNs, you will see activation functions like relu in order to create non-linearity in the network. The objective of the squash function is to take a vector as an input and \"squash\" it to have a length of no more than 1. By squashing the vector, it can now be interpreted as a probability that the feature is present in the image.</p>\n",
    "<p>Looking at the formula it is key to note that the subscript 'j' represents capsule j and s <sub>j</sub> is the input vector.&nbsp;</p>\n",
    "<img src = \"./images/squash.png\">"
   ]
  },
  {
   "cell_type": "code",
   "execution_count": 21,
   "metadata": {},
   "outputs": [],
   "source": [
    "def squash(s_j):\n",
    "    squared_norm = (s_j ** 2).sum(-1, keepdim=True)\n",
    "    v_j = squared_norm * s_j / ((1. + squared_norm) * torch.sqrt(squared_norm))\n",
    "    return v_j"
   ]
  },
  {
   "cell_type": "markdown",
   "metadata": {},
   "source": [
    "### Margin Loss from CapsNet Paper"
   ]
  },
  {
   "cell_type": "markdown",
   "metadata": {},
   "source": [
    "<img src = \"./images/marginloss.JPG\">"
   ]
  },
  {
   "cell_type": "markdown",
   "metadata": {},
   "source": [
    "<p>The next important part of the CapsNet to discuss is the loss function used by Hinton in his paper. He calls it the \"margin loss for digit existence\". In order to understand this complicated equation, it is easier to break it into pieces. What the margin loss function is trying to do is calculate the loss for every class \"k\". The term L<sub>k</sub>is the calculated loss for class k. The losses for each k will be summed and averaged to calculate the final loss for the current batch.&nbsp;</p>\n",
    "<p>The next import part of the equation in T<sub>k</sub>.   T<sub>k</sub> is the correct label for the input v<sub>k</sub>. T<sub>k</sub> will always equal 1 if DigitCap is correct and will equal 0 when it is incorrect.&nbsp;</p>\n",
    "<p>The max functions can be defined as relu activations. The max function on the left will produce a 0 loss when the prediction has a greater probability than 0.9 and the max function on the right will produce a 0 loss with a probability less than 0.1.&nbsp;</p>\n",
    "<p>The last piece to discuss it the lambda times 1 - T<sub>c</sub>. When T<sub>c</sub> is correct then the entire expression goes to 0. When T<sub>c</sub> is incorrect the expression goes to lambda. In Hinton&rsquo;s implementation, he uses a lambda value of 0.5.&nbsp;</p>\n",
    "<p>To simplify the equation, the left side of the equation will be calculated if the prediction is correct and the right side of the equation will be calculated if the prediction is incorrect.</p>"
   ]
  },
  {
   "cell_type": "code",
   "execution_count": 22,
   "metadata": {},
   "outputs": [],
   "source": [
    "def margin_loss(v_k, T_k, size_average=True):\n",
    "        #v_k shape = [batch_size, number of digits, length of digit caps, 1 batch]\n",
    "        batch_size = v_k.size(0)\n",
    "        \n",
    "        # get the norm of v_k\n",
    "        v_k_norm = torch.sqrt((v_k ** 2).sum(dim=2, keepdim=True))\n",
    "        \n",
    "        # 0.9 is given for m+ and 0.1 is given for m- from the Dynamic Routing paper \n",
    "        left = F.relu(0.9 - v_k_norm).view(batch_size, -1)\n",
    "        right = F.relu(v_k_norm - 0.1).view(batch_size, -1)\n",
    "        \n",
    "        # 0.5 is given for lamda from the Dynamic Routing paper\n",
    "        loss = T_k * left + 0.5 * (1.0 - T_k) * right\n",
    "        loss = loss.sum(dim=1).mean()\n",
    "\n",
    "        return loss"
   ]
  },
  {
   "cell_type": "markdown",
   "metadata": {},
   "source": [
    "### Layer 1 = Convolutional Layer\n",
    "<img src = \"./images/capsnet_conv.png\">\n",
    "<p>Input = 28x28 image (one color channel)</p>\n",
    "<p>Number of Kernals = 256</p>\n",
    "<p>Kernal Size = 9x9</p>\n",
    "<p>Stride = 1</p>\n",
    "<p>Output = 20x20x256</p>"
   ]
  },
  {
   "cell_type": "code",
   "execution_count": 24,
   "metadata": {},
   "outputs": [],
   "source": [
    "class ConvLayer(nn.Module):\n",
    "    def __init__(self, in_channels=1, out_channels=256, kernel_size=9):\n",
    "        super(ConvLayer, self).__init__()\n",
    "\n",
    "        self.conv = nn.Conv2d(in_channels=in_channels,\n",
    "                              out_channels=out_channels,\n",
    "                              kernel_size=kernel_size,\n",
    "                              stride=1\n",
    "                              )\n",
    "\n",
    "    def forward(self, x):\n",
    "        return F.relu(self.conv(x))"
   ]
  },
  {
   "cell_type": "markdown",
   "metadata": {},
   "source": [
    "### Layer 2 = Primary Caps Layer\n",
    "<img src = \"./images/capsnet_PC.png\">\n",
    "<p>Input = 20x20x256 tensor</p>\n",
    "<p> Number of Capsules = 32</p>\n",
    "<p>Kernal Size = 9x9x256</p>\n",
    "<p>Stride = 2</p>\n",
    "<p>Output = 6x6x9x32 tensor</p>"
   ]
  },
  {
   "cell_type": "code",
   "execution_count": 26,
   "metadata": {},
   "outputs": [],
   "source": [
    "class PrimaryCaps(nn.Module):\n",
    "    def __init__(self, num_capsules=8, in_channels=256, out_channels=32, kernel_size=9, num_routes=32 * 6 * 6):\n",
    "        super(PrimaryCaps, self).__init__()\n",
    "        self.num_routes = num_routes\n",
    "        self.capsules = nn.ModuleList([\n",
    "            nn.Conv2d(in_channels=in_channels, out_channels=out_channels, kernel_size=kernel_size, stride=2, padding=0)\n",
    "            for _ in range(num_capsules)])\n",
    "\n",
    "    def forward(self, x):\n",
    "        u = [capsule(x) for capsule in self.capsules]\n",
    "        u = torch.stack(u, dim=1)\n",
    "        u = u.view(x.size(0), self.num_routes, -1)\n",
    "        return squash(u)"
   ]
  },
  {
   "cell_type": "markdown",
   "metadata": {},
   "source": [
    "### Layer 3 = Digit Caps Layer\n",
    "<img src = \"./images/capsnet_DC.png\">\n",
    "<p>Input = 6x6x8x32 tensor</p>\n",
    "<p>Number of Capsules = 10 </p>\n",
    "\n",
    "<p>Output = 16x10 matrix</p>\n"
   ]
  },
  {
   "cell_type": "code",
   "execution_count": 27,
   "metadata": {},
   "outputs": [],
   "source": [
    "class DigitCaps(nn.Module):\n",
    "    def __init__(self, num_capsules=10, num_routes=32 * 6 * 6, in_channels=8, out_channels=16):\n",
    "        super(DigitCaps, self).__init__()\n",
    "\n",
    "        self.in_channels = in_channels\n",
    "        self.num_routes = num_routes\n",
    "        self.num_capsules = num_capsules\n",
    "\n",
    "        self.W = nn.Parameter(torch.randn(1, num_routes, num_capsules, out_channels, in_channels))\n",
    "\n",
    "    def forward(self, x):\n",
    "        batch_size = x.size(0)\n",
    "        x = torch.stack([x] * self.num_capsules, dim=2).unsqueeze(4)\n",
    "\n",
    "        W = torch.cat([self.W] * batch_size, dim=0)\n",
    "        u_hat = torch.matmul(W, x)\n",
    "\n",
    "        b_ij = Variable(torch.zeros(1, self.num_routes, self.num_capsules, 1))\n",
    "        if USE_CUDA:\n",
    "            b_ij = b_ij.cuda()\n",
    "\n",
    "        num_iterations = 3\n",
    "        for iteration in range(num_iterations):\n",
    "            c_ij = F.softmax(b_ij, dim=1)\n",
    "            c_ij = torch.cat([c_ij] * batch_size, dim=0).unsqueeze(4)\n",
    "\n",
    "            s_j = (c_ij * u_hat).sum(dim=1, keepdim=True)\n",
    "            v_j = squash(s_j)\n",
    "\n",
    "            if iteration < num_iterations - 1:\n",
    "                a_ij = torch.matmul(u_hat.transpose(3, 4), torch.cat([v_j] * self.num_routes, dim=1))\n",
    "                b_ij = b_ij + a_ij.squeeze(4).mean(dim=0, keepdim=True)\n",
    "\n",
    "        return v_j.squeeze(1)\n"
   ]
  },
  {
   "cell_type": "markdown",
   "metadata": {},
   "source": [
    "### Decoder\n",
    "<p>Input =&nbsp;16-dimensional vector from the Digit Capsule Layer</p>\n",
    "<p>Output = 28x28 reconstructed image</p>\n",
    "<p>Loss Function =&nbsp;&nbsp;Euclidean distance between the reconstructed image and the input image&nbsp;</p>\n",
    "\n",
    "### Layer 4 = Fully Connected 1\n",
    "<p>Input =&nbsp;16x10 flattened (160 nodes)</p>\n",
    "<p>Output = 512 nodes</p>\n",
    "\n",
    "### Layer 5 = Fully Connected 2\n",
    "<p>Input 512 nodes</p>\n",
    "<p>Output = 1024 nodes</p>\n",
    "\n",
    "### Layer 6 = Fully Connected 3\n",
    "<p>Input 1024 nodes</p>\n",
    "<p>Output = 784 nodes (28x28)</p>\n",
    "\n",
    "<img src = \"./images/decoder.png\">"
   ]
  },
  {
   "cell_type": "code",
   "execution_count": 28,
   "metadata": {},
   "outputs": [],
   "source": [
    "class Decoder(nn.Module):\n",
    "    def __init__(self, input_width=28, input_height=28, input_channel=1):\n",
    "        super(Decoder, self).__init__()\n",
    "        self.input_width = input_width\n",
    "        self.input_height = input_height\n",
    "        self.input_channel = input_channel\n",
    "        self.reconstraction_layers = nn.Sequential(\n",
    "            nn.Linear(16 * 10, 512),\n",
    "            nn.ReLU(inplace=True),\n",
    "            nn.Linear(512, 1024),\n",
    "            nn.ReLU(inplace=True),\n",
    "            nn.Linear(1024, self.input_height * self.input_height * self.input_channel),\n",
    "            nn.Sigmoid()\n",
    "        )\n",
    "\n",
    "    def forward(self, x, data):\n",
    "        classes = torch.sqrt((x ** 2).sum(2))\n",
    "        classes = F.softmax(classes, dim=0)\n",
    "\n",
    "        _, max_length_indices = classes.max(dim=1)\n",
    "        masked = Variable(torch.sparse.torch.eye(10))\n",
    "        if USE_CUDA:\n",
    "            masked = masked.cuda()\n",
    "        masked = masked.index_select(dim=0, index=Variable(max_length_indices.squeeze(1).data))\n",
    "        t = (x * masked[:, :, None, None]).view(x.size(0), -1)\n",
    "        reconstructions = self.reconstraction_layers(t)\n",
    "        reconstructions = reconstructions.view(-1, self.input_channel, self.input_width, self.input_height)\n",
    "        return reconstructions, masked"
   ]
  },
  {
   "cell_type": "code",
   "execution_count": 29,
   "metadata": {},
   "outputs": [
    {
     "data": {
      "text/plain": [
       "44"
      ]
     },
     "execution_count": 29,
     "metadata": {},
     "output_type": "execute_result"
    }
   ],
   "source": [
    "gc.collect()"
   ]
  },
  {
   "cell_type": "markdown",
   "metadata": {},
   "source": [
    "# Construct Entire Capsule Network Model"
   ]
  },
  {
   "cell_type": "code",
   "execution_count": 30,
   "metadata": {},
   "outputs": [],
   "source": [
    "class CapsNet(nn.Module):\n",
    "    def __init__(self, config=None):\n",
    "        super(CapsNet, self).__init__()\n",
    "        if config:\n",
    "            self.conv_layer = ConvLayer(config.cnn_in_channels, config.cnn_out_channels, config.cnn_kernel_size)\n",
    "            self.primary_capsules = PrimaryCaps(config.pc_num_capsules, config.pc_in_channels, config.pc_out_channels,\n",
    "                                                config.pc_kernel_size, config.pc_num_routes)\n",
    "            self.digit_capsules = DigitCaps(config.dc_num_capsules, config.dc_num_routes, config.dc_in_channels,\n",
    "                                            config.dc_out_channels)\n",
    "            self.decoder = Decoder(config.input_width, config.input_height, config.cnn_in_channels)\n",
    "        else:\n",
    "            self.conv_layer = ConvLayer()\n",
    "            self.primary_capsules = PrimaryCaps()\n",
    "            self.digit_capsules = DigitCaps()\n",
    "            self.decoder = Decoder()\n",
    "\n",
    "        self.mse_loss = nn.MSELoss()\n",
    "\n",
    "    def forward(self, data):\n",
    "        output = self.digit_capsules(self.primary_capsules(self.conv_layer(data)))\n",
    "        reconstructions, masked = self.decoder(output, data)\n",
    "        return output, reconstructions, masked\n",
    "\n",
    "    def loss(self, data, x, target, reconstructions):\n",
    "        return margin_loss(x, target) + self.reconstruction_loss(data, reconstructions)\n",
    "\n",
    "\n",
    "    def reconstruction_loss(self, data, reconstructions):\n",
    "        loss = self.mse_loss(reconstructions.view(reconstructions.size(0), -1), data.view(reconstructions.size(0), -1))\n",
    "        return loss * 0.0005"
   ]
  },
  {
   "cell_type": "markdown",
   "metadata": {},
   "source": [
    "# Train and Test Loops for the Model"
   ]
  },
  {
   "cell_type": "code",
   "execution_count": 31,
   "metadata": {},
   "outputs": [],
   "source": [
    "def train(model, optimizer, train_loader, epoch):\n",
    "    capsule_net = model\n",
    "    capsule_net.train()\n",
    "    n_batch = len(list(enumerate(train_loader)))\n",
    "    total_loss = 0\n",
    "    for batch_id, (data, target) in enumerate(tqdm(train_loader)):\n",
    "\n",
    "        target = torch.sparse.torch.eye(10).index_select(dim=0, index=target)\n",
    "        data, target = Variable(data), Variable(target)\n",
    "\n",
    "        if USE_CUDA:\n",
    "            data, target = data.cuda(), target.cuda()\n",
    "\n",
    "        optimizer.zero_grad()\n",
    "        output, reconstructions, masked = capsule_net(data)\n",
    "        loss = capsule_net.loss(data, output, target, reconstructions)\n",
    "        loss.backward()\n",
    "        optimizer.step()\n",
    "        correct = sum(np.argmax(masked.data.cpu().numpy(), 1) == np.argmax(target.data.cpu().numpy(), 1))\n",
    "        train_loss = loss.data\n",
    "        total_loss += train_loss\n",
    "        if batch_id % 100 == 0:\n",
    "            tqdm.write(\"Epoch: [{}/{}], Batch: [{}/{}], train accuracy: {:.6f}, loss: {:.6f}\".format(\n",
    "                epoch,\n",
    "                N_EPOCHS,\n",
    "                batch_id + 1,\n",
    "                n_batch,\n",
    "                correct / float(BATCH_SIZE),\n",
    "                train_loss / float(BATCH_SIZE)\n",
    "                ))\n",
    "    tqdm.write('Epoch: [{}/{}], train loss: {:.6f}'.format(epoch,N_EPOCHS,total_loss / len(train_loader.dataset)))\n",
    "    \n",
    "def test(capsule_net, test_loader, epoch, name):\n",
    "    capsule_net.eval()\n",
    "    test_loss = 0\n",
    "    correct = 0\n",
    "    for batch_id, (data, target) in enumerate(test_loader):\n",
    "\n",
    "        target = torch.sparse.torch.eye(10).index_select(dim=0, index=target)\n",
    "        data, target = Variable(data), Variable(target)\n",
    "\n",
    "        if USE_CUDA:\n",
    "            data, target = data.cuda(), target.cuda()\n",
    "\n",
    "        output, reconstructions, masked = capsule_net(data)\n",
    "        loss = capsule_net.loss(data, output, target, reconstructions)\n",
    "\n",
    "        test_loss += loss.data\n",
    "        correct += sum(np.argmax(masked.data.cpu().numpy(), 1) ==\n",
    "                       np.argmax(target.data.cpu().numpy(), 1))\n",
    "\n",
    "    tqdm.write(\n",
    "        \"Epoch: [{}/{}], test accuracy {}: {:.6f}, loss: {:.6f}\".format(epoch, N_EPOCHS, str(name), correct / len(test_loader.dataset),\n",
    "                                                                  test_loss / len(test_loader)))\n"
   ]
  },
  {
   "cell_type": "markdown",
   "metadata": {},
   "source": [
    "# Run the Training"
   ]
  },
  {
   "cell_type": "code",
   "execution_count": null,
   "metadata": {},
   "outputs": [],
   "source": [
    "gc.collect()\n",
    "capsule_net = CapsNet()\n",
    "\n",
    "if USE_CUDA:\n",
    "    capsule_net = capsule_net.cuda()\n",
    "#capsule_net = capsule_net.module\n",
    "\n",
    "optimizer = torch.optim.Adam(capsule_net.parameters())\n",
    "\n",
    "for e in range(1, N_EPOCHS + 1):\n",
    "    train(capsule_net, optimizer, train_loader, e)\n",
    "    test(capsule_net, test_loader, e, \"NORMAL TEST\")\n",
    "    test(capsule_net, test_loader_rotate, e, \"ROTATED TEST\")\n",
    "    test(capsule_net, test_loader_scale_half, e, \"SCALE TEST\")\n",
    "\n",
    "\n",
    "torch.save(capsule_net.state_dict(), './capsnet_trained.model')\n",
    "\n"
   ]
  },
  {
   "cell_type": "markdown",
   "metadata": {},
   "source": [
    "<h2>Sources</h2>\n",
    "<p>1.&nbsp;<a href=\"https://arxiv.org/pdf/1710.09829.pdf\">Dynamic Routing Between Capsules</a>&nbsp;</p>\n",
    "<p>2. <a href=\"https://openreview.net/pdf?id=HJWLfGWRb\">Matrix Capsules with EM Routing</a></p>\n",
    "<p>3.&nbsp;<a href=\"http://www.cs.toronto.edu/~fritz/absps/transauto6.pdf\">Transforming Auto-encoders</a></p>\n",
    "<p>&nbsp;</p>\n",
    "<p>&nbsp;</p>"
   ]
  },
  {
   "cell_type": "code",
   "execution_count": null,
   "metadata": {},
   "outputs": [],
   "source": []
  },
  {
   "cell_type": "code",
   "execution_count": null,
   "metadata": {},
   "outputs": [],
   "source": []
  }
 ],
 "metadata": {
  "kernelspec": {
   "display_name": "Python 3",
   "language": "python",
   "name": "python3"
  },
  "language_info": {
   "codemirror_mode": {
    "name": "ipython",
    "version": 3
   },
   "file_extension": ".py",
   "mimetype": "text/x-python",
   "name": "python",
   "nbconvert_exporter": "python",
   "pygments_lexer": "ipython3",
   "version": "3.7.3"
  }
 },
 "nbformat": 4,
 "nbformat_minor": 2
}
